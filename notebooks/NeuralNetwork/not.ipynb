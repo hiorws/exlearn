{
 "cells": [
  {
   "cell_type": "code",
   "execution_count": 1,
   "metadata": {
    "collapsed": false
   },
   "outputs": [
    {
     "data": {
      "text/plain": [
       ":ok"
      ]
     },
     "execution_count": 1,
     "metadata": {},
     "output_type": "execute_result"
    }
   ],
   "source": [
    "Path.wildcard('/work/lib/**/*.ex')\n",
    "|> Enum.map(fn (file) -> Code.require_file(file) end)\n",
    "\n",
    ":ok"
   ]
  },
  {
   "cell_type": "code",
   "execution_count": 2,
   "metadata": {
    "collapsed": false
   },
   "outputs": [
    {
     "data": {
      "text/plain": [
       "{:ok, [[0.9717208540663208], [0.0010529301558681206]]}"
      ]
     },
     "execution_count": 2,
     "metadata": {},
     "output_type": "execute_result"
    }
   ],
   "source": [
    "alias ExLearn.NeuralNetwork, as: NN\n",
    "\n",
    "structure_parameters = %{\n",
    "  layers: %{\n",
    "    input:   %{size: 1},\n",
    "    hidden: [%{activity: :logistic, name: \"First Hidden\", size: 2}],\n",
    "    output:  %{activity: :tanh,     name: \"Output\",       size: 1}\n",
    "  },\n",
    "  objective: :quadratic,\n",
    "  random:    %{distribution: :uniform, range: {-1, 1}}\n",
    "}\n",
    "\n",
    "network = NN.initialize(structure_parameters)\n",
    "\n",
    "training_data = [\n",
    "  {[0], [1]},\n",
    "  {[1], [0]}\n",
    "]\n",
    "\n",
    "configuration = %{\n",
    "  batch_size:     2,\n",
    "  data_size:      4,\n",
    "  epochs:         1000,\n",
    "  dropout:        0.5,\n",
    "  learning_rate:  0.5,\n",
    "  regularization: :L2\n",
    "}\n",
    "\n",
    "NN.feed(training_data, configuration, network)\n",
    "\n",
    "ask_data = [[0], [1]]\n",
    "\n",
    "NN.ask(ask_data, network)"
   ]
  }
 ],
 "metadata": {
  "kernelspec": {
   "display_name": "ielixir",
   "language": "Elixir",
   "name": "ielixir"
  },
  "language_info": {
   "codemirror_mode": "erlang",
   "file_extension": "ex",
   "mimetype": "text/x-elixir",
   "name": "elixir",
   "nbconvert_exporter": "",
   "pygments_lexer": "pygments.lexers.erlang.ElixirLexer",
   "version": "#Version<1.3.1>"
  }
 },
 "nbformat": 4,
 "nbformat_minor": 0
}
