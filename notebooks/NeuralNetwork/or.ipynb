{
 "cells": [
  {
   "cell_type": "code",
   "execution_count": 1,
   "metadata": {
    "collapsed": false
   },
   "outputs": [
    {
     "data": {
      "text/plain": [
       ":ok"
      ]
     },
     "execution_count": 1,
     "metadata": {},
     "output_type": "execute_result"
    }
   ],
   "source": [
    "# Getting the current location\n",
    "{:ok, home} = File.cwd\n",
    "\n",
    "# Moving to project root inside the container\n",
    "File.cd(\"/work\")\n",
    "\n",
    "# Requiring project files\n",
    "Path.wildcard('/work/lib/**/*.ex')\n",
    "|> Enum.map(fn (file) -> Code.require_file(file) end)\n",
    "\n",
    "# Moving back to the previous location \n",
    "File.cd(home)\n",
    "\n",
    ":ok"
   ]
  },
  {
   "cell_type": "code",
   "execution_count": 2,
   "metadata": {
    "collapsed": false
   },
   "outputs": [
    {
     "name": "stdout",
     "output_type": "stream",
     "text": [
      "------------------------------\n",
      "Input ID: 3\n",
      "Output: 1\n",
      "------------------------------\n",
      "Input ID: 2\n",
      "Output: 1\n",
      "------------------------------\n",
      "Input ID: 1\n",
      "Output: 1\n",
      "------------------------------\n",
      "Input ID: 0\n",
      "Output: 0\n"
     ]
    },
    {
     "data": {
      "text/plain": [
       ":ok"
      ]
     },
     "execution_count": 2,
     "metadata": {},
     "output_type": "execute_result"
    }
   ],
   "source": [
    "alias ExLearn.Matrix\n",
    "alias ExLearn.NeuralNetwork, as: NN\n",
    "\n",
    "structure_parameters = %{\n",
    "  layers: %{\n",
    "    input:   %{size: 2},\n",
    "    hidden: [%{activity: :logistic, name: \"First Hidden\", size: 2}],\n",
    "    output:  %{activity: :logistic, name: \"Output\",       size: 1}\n",
    "  },\n",
    "  objective:    :cross_entropy,\n",
    "  presentation: :round\n",
    "}\n",
    "\n",
    "network = NN.create(structure_parameters)\n",
    "\n",
    "initialization_parameters = %{\n",
    "  distribution: :uniform,\n",
    "  maximum:       1,\n",
    "  minimum:      -1,\n",
    "  modifier:     fn(value, _inputs, _outputs) -> value + 1 end\n",
    "}\n",
    "\n",
    "NN.initialize(initialization_parameters, network)\n",
    "\n",
    "training_data = [\n",
    "  {Matrix.new(1, 2, [[0, 0]]), Matrix.new(1, 2, [[0]])},\n",
    "  {Matrix.new(1, 2, [[0, 1]]), Matrix.new(1, 2, [[1]])},\n",
    "  {Matrix.new(1, 2, [[1, 0]]), Matrix.new(1, 2, [[1]])},\n",
    "  {Matrix.new(1, 2, [[1, 1]]), Matrix.new(1, 2, [[1]])}\n",
    "]\n",
    "\n",
    "prediction_data = [\n",
    "  {0, Matrix.new(1, 2, [[0, 0]])},\n",
    "  {1, Matrix.new(1, 2, [[0, 1]])},\n",
    "  {2, Matrix.new(1, 2, [[1, 0]])},\n",
    "  {3, Matrix.new(1, 2, [[1, 1]])}\n",
    "]\n",
    "\n",
    "data = %{\n",
    "  train:   %{data: training_data,   size: 4},\n",
    "  predict: %{data: prediction_data, size: 4}\n",
    "}\n",
    "\n",
    "parameters = %{\n",
    "  batch_size:    2,\n",
    "  epochs:        50,\n",
    "  learning_rate: 4.5,\n",
    "  workers:       2\n",
    "}\n",
    "\n",
    "NN.process(data, parameters, network) |> NN.result\n",
    "\n",
    "|> Enum.map(fn({id, output}) ->\n",
    "  IO.puts \"------------------------------\"\n",
    "  IO.puts \"Input ID: #{id}\"\n",
    "  IO.puts \"Output: #{output}\"\n",
    "end)\n",
    "\n",
    ":ok"
   ]
  }
 ],
 "metadata": {
  "kernelspec": {
   "display_name": "ielixir",
   "language": "Elixir",
   "name": "ielixir"
  },
  "language_info": {
   "codemirror_mode": "erlang",
   "file_extension": "ex",
   "mimetype": "text/x-elixir",
   "name": "elixir",
   "nbconvert_exporter": "",
   "pygments_lexer": "pygments.lexers.erlang.ElixirLexer",
   "version": "#Version<1.3.2>"
  }
 },
 "nbformat": 4,
 "nbformat_minor": 0
}
