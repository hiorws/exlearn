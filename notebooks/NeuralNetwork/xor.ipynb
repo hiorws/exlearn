{
 "cells": [
  {
   "cell_type": "code",
   "execution_count": 1,
   "metadata": {
    "collapsed": false
   },
   "outputs": [
    {
     "data": {
      "text/plain": [
       ":ok"
      ]
     },
     "execution_count": 1,
     "metadata": {},
     "output_type": "execute_result"
    }
   ],
   "source": [
    "# Getting the current location\n",
    "{:ok, home} = File.cwd\n",
    "\n",
    "# Moving to project root inside the container\n",
    "File.cd(\"/work\")\n",
    "\n",
    "# Requiring project files\n",
    "Path.wildcard('/work/lib/**/*.ex')\n",
    "|> Enum.map(fn (file) -> Code.require_file(file) end)\n",
    "\n",
    "# Moving back to the previous location \n",
    "File.cd(home)\n",
    "\n",
    ":ok"
   ]
  },
  {
   "cell_type": "code",
   "execution_count": 2,
   "metadata": {
    "collapsed": false
   },
   "outputs": [
    {
     "name": "stdout",
     "output_type": "stream",
     "text": [
      "Rows: 1 Columns: 2\n",
      "0.9742106795310974 0.025789326056838036\n",
      "Rows: 1 Columns: 2\n",
      "0.03014378622174263 0.9698562026023865\n",
      "Rows: 1 Columns: 2\n",
      "0.03632189705967903 0.9636781215667725\n",
      "Rows: 1 Columns: 2\n",
      "0.9585140347480774 0.041485950350761414\n"
     ]
    },
    {
     "data": {
      "text/plain": [
       ":ok"
      ]
     },
     "execution_count": 2,
     "metadata": {},
     "output_type": "execute_result"
    }
   ],
   "source": [
    "alias ExLearn.Matrix\n",
    "alias ExLearn.NeuralNetwork, as: NN\n",
    "\n",
    "structure_parameters = %{\n",
    "  layers: %{\n",
    "    input:   %{size: 2},\n",
    "    hidden: [%{activity: :logistic, name: \"First Hidden\", size: 4}],\n",
    "    output:  %{activity: :softmax,  name: \"Output\",       size: 2}\n",
    "  },\n",
    "  objective: :negative_log_likelihood\n",
    "}\n",
    "\n",
    "network = NN.create(structure_parameters)\n",
    "\n",
    "initialization_parameters = %{distribution: :uniform, range: {-1, 1}}\n",
    "NN.initialize(initialization_parameters, network)\n",
    "\n",
    "training_data = [\n",
    "  {Matrix.new(1, 2, [[0, 0]]), Matrix.new(1, 2, [[1, 0]])},\n",
    "  {Matrix.new(1, 2, [[0, 1]]), Matrix.new(1, 2, [[0, 1]])},\n",
    "  {Matrix.new(1, 2, [[1, 0]]), Matrix.new(1, 2, [[0, 1]])},\n",
    "  {Matrix.new(1, 2, [[1, 1]]), Matrix.new(1, 2, [[1, 0]])}\n",
    "]\n",
    "\n",
    "learning_parameters = %{\n",
    "  training: %{\n",
    "    batch_size:     2,\n",
    "    data:           training_data,\n",
    "    data_size:      4,\n",
    "    epochs:         600,\n",
    "    learning_rate:  0.4,\n",
    "    regularization: :none\n",
    "  },\n",
    "  workers: 2\n",
    "}\n",
    "\n",
    "NN.train(learning_parameters, network) |> Task.await(:infinity)\n",
    "\n",
    "ask_data = [\n",
    "  Matrix.new(1, 2, [[0, 0]]),\n",
    "  Matrix.new(1, 2, [[0, 1]]),\n",
    "  Matrix.new(1, 2, [[1, 0]]),\n",
    "  Matrix.new(1, 2, [[1, 1]])\n",
    "]\n",
    "\n",
    "NN.ask(ask_data, network)\n",
    "|> Task.await(:infinity)\n",
    "|> Enum.map(fn(element) -> Matrix.inspect(element) end)\n",
    "\n",
    ":ok"
   ]
  }
 ],
 "metadata": {
  "kernelspec": {
   "display_name": "ielixir",
   "language": "Elixir",
   "name": "ielixir"
  },
  "language_info": {
   "codemirror_mode": "erlang",
   "file_extension": "ex",
   "mimetype": "text/x-elixir",
   "name": "elixir",
   "nbconvert_exporter": "",
   "pygments_lexer": "pygments.lexers.erlang.ElixirLexer",
   "version": "#Version<1.3.2>"
  }
 },
 "nbformat": 4,
 "nbformat_minor": 0
}
