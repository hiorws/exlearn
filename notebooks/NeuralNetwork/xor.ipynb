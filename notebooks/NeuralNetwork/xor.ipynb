{
 "cells": [
  {
   "cell_type": "code",
   "execution_count": null,
   "metadata": {
    "collapsed": false
   },
   "outputs": [],
   "source": [
    "Path.expand('/work/lib/**/*.ex')\n",
    "|> Path.wildcard()\n",
    "|> Enum.map(fn (file) -> Code.require_file(file) end)\n",
    "                                                     \n",
    ":ok"
   ]
  },
  {
   "cell_type": "code",
   "execution_count": null,
   "metadata": {
    "collapsed": false
   },
   "outputs": [],
   "source": [
    "alias BrainTonic.NeuralNetwork, as: NN\n",
    "\n",
    "structure_parameters = %{\n",
    "  layers: %{\n",
    "    input:   %{size: 2},\n",
    "    hidden: [%{activity: :logistic, size: 4}],\n",
    "    output:  %{activity: :tanh,     size: 1}\n",
    "  },\n",
    "  objective: :quadratic,\n",
    "  random:    %{distribution: :uniform, range: {-1, 1}}\n",
    "}\n",
    "\n",
    "network = NN.initialize(structure_parameters)\n",
    "\n",
    "configuration = %{\n",
    "  dropout:        0.5,\n",
    "  learning_rate:  0.5,\n",
    "  regularization: :L2\n",
    "}\n",
    "\n",
    "NN.configure(configuration, network)\n",
    "\n",
    "data = [\n",
    "  {[0, 0], [0]},\n",
    "  {[0, 1], [1]},\n",
    "  {[1, 0], [1]},\n",
    "  {[1, 1], [0]}\n",
    "]\n",
    "\n",
    "input = %{\n",
    "  batch_size: 2,\n",
    "  data:       data,\n",
    "  data_size:  4,\n",
    "  epochs:     1000\n",
    "}\n",
    "\n",
    "NN.feed(network, input)\n",
    "\n",
    "result = NN.ask(data, network)\n",
    "\n",
    "IO.inspect result"
   ]
  },
  {
   "cell_type": "code",
   "execution_count": null,
   "metadata": {
    "collapsed": true
   },
   "outputs": [],
   "source": []
  }
 ],
 "metadata": {
  "kernelspec": {
   "display_name": "ielixir",
   "language": "Elixir",
   "name": "ielixir"
  },
  "language_info": {
   "codemirror_mode": "erlang",
   "file_extension": "ex",
   "mimetype": "text/x-elixir",
   "name": "elixir",
   "nbconvert_exporter": "",
   "pygments_lexer": "pygments.lexers.erlang.ElixirLexer",
   "version": "#Version<1.2.5>"
  }
 },
 "nbformat": 4,
 "nbformat_minor": 0
}
